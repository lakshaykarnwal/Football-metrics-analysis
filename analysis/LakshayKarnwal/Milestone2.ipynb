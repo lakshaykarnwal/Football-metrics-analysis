{
 "cells": [
  {
   "cell_type": "code",
   "execution_count": 1,
   "id": "321612fa-4ee1-4a66-a315-ae9bd778b06b",
   "metadata": {},
   "outputs": [
    {
     "ename": "NameError",
     "evalue": "name 'pf' is not defined",
     "output_type": "error",
     "traceback": [
      "\u001b[1;31m---------------------------------------------------------------------------\u001b[0m",
      "\u001b[1;31mNameError\u001b[0m                                 Traceback (most recent call last)",
      "\u001b[1;32m<ipython-input-1-54a284282cc0>\u001b[0m in \u001b[0;36m<module>\u001b[1;34m\u001b[0m\n\u001b[0;32m      7\u001b[0m \u001b[1;31m#from Scripts import project_functions as pf # This is called a relative import\u001b[0m\u001b[1;33m\u001b[0m\u001b[1;33m\u001b[0m\u001b[1;33m\u001b[0m\u001b[0m\n\u001b[0;32m      8\u001b[0m \u001b[1;33m\u001b[0m\u001b[0m\n\u001b[1;32m----> 9\u001b[1;33m \u001b[0mdf\u001b[0m \u001b[1;33m=\u001b[0m \u001b[0mpf\u001b[0m\u001b[1;33m.\u001b[0m\u001b[0mload_and_process\u001b[0m\u001b[1;33m(\u001b[0m\u001b[1;34m\"../../data/raw/understat.com.csv\"\u001b[0m\u001b[1;33m)\u001b[0m\u001b[1;33m\u001b[0m\u001b[1;33m\u001b[0m\u001b[0m\n\u001b[0m\u001b[0;32m     10\u001b[0m \u001b[0mpath\u001b[0m\u001b[1;33m=\u001b[0m \u001b[1;34m\"../../data/raw/understat.com.csv\"\u001b[0m\u001b[1;33m\u001b[0m\u001b[1;33m\u001b[0m\u001b[0m\n",
      "\u001b[1;31mNameError\u001b[0m: name 'pf' is not defined"
     ]
    }
   ],
   "source": [
    "import pandas as pd\n",
    "import seaborn as sns\n",
    "import matplotlib.pyplot as plt\n",
    "%load_ext autoreload\n",
    "%autoreload 2\n",
    "from importlib import reload\n",
    "from Scripts import project_functions as pf # This is called a relative import\n",
    "\n",
    "df = pf.load_and_process(\"../../data/raw/understat.com.csv\")\n",
    "path= \"../../data/raw/understat.com.csv\""
   ]
  },
  {
   "cell_type": "code",
   "execution_count": null,
   "id": "f2209741-3290-4896-99fc-70c6e14a0ec2",
   "metadata": {},
   "outputs": [],
   "source": [
    "df1= pf.filter_data_set('EPL',2014,1,path)\n",
    "display(df1)\n",
    "fig, ax = plt.subplots()\n",
    "pf.bar_plot(ax, df1, total_width=0.3, single_width=0.7, chart_value=1)\n",
    "plt.show()\n",
    "\n",
    "df1= pf.filter_data_set('Serie_A',2014,1, path)\n",
    "display(df1)\n",
    "fig, ax = plt.subplots()\n",
    "pf.bar_plot(ax, df1, total_width=0.3, single_width=0.7, chart_value=1)\n",
    "plt.show()\n",
    "\n",
    "df1= pf.filter_data_set('Ligue_1',2016, path)\n",
    "display(df1)\n",
    "fig, ax = plt.subplots()\n",
    "pf.bar_plot(ax, df1, total_width=0.3, single_width=0.7, chart_value=1)\n",
    "plt.show()\n",
    "\n",
    "df1= pf.filter_data_set('La_liga',2017, path)\n",
    "display(df1)\n",
    "fig, ax = plt.subplots()\n",
    "pf.bar_plot(ax, df1, total_width=0.3, single_width=0.7, chart_value=1)\n",
    "plt.show()\n"
   ]
  },
  {
   "cell_type": "code",
   "execution_count": null,
   "id": "1c08da30-a224-440c-b1b3-9eba2f61b006",
   "metadata": {},
   "outputs": [],
   "source": [
    "df1= pf.filter_data_set('EPL',2014, path)\n",
    "fig, ax = plt.subplots()\n",
    "pf.bar_plot(ax, df1, total_width=0.3, single_width=0.7, chart_value=2)\n",
    "plt.show()\n",
    "\n",
    "df1= pf.filter_data_set('Serie_A',2014, path)\n",
    "fig, ax = plt.subplots()\n",
    "pf.bar_plot(ax, df1, total_width=0.3, single_width=0.7, chart_value=2)\n",
    "plt.show()\n",
    "\n",
    "df1= pf.filter_data_set('Ligue_1',2016, path)\n",
    "fig, ax = plt.subplots()\n",
    "pf.bar_plot(ax, df1, total_width=0.3, single_width=0.7, chart_value=2)\n",
    "plt.show()\n",
    "\n",
    "df1= pf.filter_data_set('La_liga',2017, path)\n",
    "fig, ax = plt.subplots()\n",
    "pf.bar_plot(ax, df1, total_width=0.3, single_width=0.7, chart_value=2)\n",
    "plt.show()"
   ]
  },
  {
   "cell_type": "code",
   "execution_count": null,
   "id": "708eaba8-b140-49d8-a1ed-26a7e0852ebb",
   "metadata": {},
   "outputs": [],
   "source": [
    "corr = df.corr()\n",
    "corr.style.background_gradient(cmap=\"Greens\")"
   ]
  },
  {
   "cell_type": "code",
   "execution_count": null,
   "id": "108ae1c3-1090-42b2-9317-222d9d05e58f",
   "metadata": {},
   "outputs": [],
   "source": [
    "pf.weighted_avg('EPL',2014, path)\n",
    "#plt.title('Team\\'s net effect (team avg - opponent avg)')"
   ]
  },
  {
   "cell_type": "code",
   "execution_count": null,
   "id": "cad060dc-bc4d-44fb-b3ed-3bfad23b7617",
   "metadata": {},
   "outputs": [],
   "source": [
    "pf.weighted_avg('Serie_A',2014, path)"
   ]
  },
  {
   "cell_type": "code",
   "execution_count": null,
   "id": "87f93640-a878-4980-82e9-b41d43ca08bc",
   "metadata": {},
   "outputs": [],
   "source": [
    "pf.weighted_avg('Ligue_1',2016, path)"
   ]
  },
  {
   "cell_type": "code",
   "execution_count": null,
   "id": "b16c002e-f0c7-48ee-9bff-3c054954fc24",
   "metadata": {},
   "outputs": [],
   "source": [
    "pf.weighted_avg('La_liga',2017, path)"
   ]
  },
  {
   "cell_type": "code",
   "execution_count": null,
   "id": "8c5f63bf-cafd-4f38-9a28-7fc53f1c4d62",
   "metadata": {},
   "outputs": [],
   "source": [
    "pie, ax = plt.subplots(figsize=[10,6])\n",
    "labels = data.keys()\n",
    "plt.pie(x=data, autopct=\"%.1f%%\", explode=[0.05]*4, labels=labels, pctdistance=0.5)\n",
    "plt.title(\"Delivery Tips by type\", fontsize=14);\n",
    "pie.savefig(\"DeliveryPieChart.png\")"
   ]
  },
  {
   "cell_type": "code",
   "execution_count": null,
   "id": "2251b826-a7ed-43e2-97df-54de0be5b436",
   "metadata": {},
   "outputs": [],
   "source": []
  }
 ],
 "metadata": {
  "kernelspec": {
   "display_name": "Python 3",
   "language": "python",
   "name": "python3"
  },
  "language_info": {
   "codemirror_mode": {
    "name": "ipython",
    "version": 3
   },
   "file_extension": ".py",
   "mimetype": "text/x-python",
   "name": "python",
   "nbconvert_exporter": "python",
   "pygments_lexer": "ipython3",
   "version": "3.8.8"
  }
 },
 "nbformat": 4,
 "nbformat_minor": 5
}
